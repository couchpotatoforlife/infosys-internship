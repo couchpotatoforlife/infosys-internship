{
 "cells": [
  {
   "cell_type": "code",
   "execution_count": 1,
   "id": "8b372561-33f9-42ac-b327-118427ddb59e",
   "metadata": {},
   "outputs": [],
   "source": [
    "import pandas as pd\n",
    "import numpy as np\n",
    "from sklearn.model_selection import train_test_split, cross_val_score, GridSearchCV\n",
    "from sklearn.linear_model import Ridge\n",
    "from sklearn.preprocessing import StandardScaler\n",
    "from sklearn.pipeline import Pipeline\n",
    "from sklearn.metrics import mean_squared_error, r2_score\n"
   ]
  },
  {
   "cell_type": "code",
   "execution_count": 2,
   "id": "23112f32-9f16-4ca7-95f2-f12e5a5015c3",
   "metadata": {},
   "outputs": [
    {
     "name": "stdout",
     "output_type": "stream",
     "text": [
      "Target column: Magnitude\n",
      "Features: 35\n",
      "Samples: 23409\n"
     ]
    }
   ],
   "source": [
    "df = pd.read_csv(\"preprocessed_earthquake_data.csv\")\n",
    "\n",
    "# Select target column (Magnitude)\n",
    "target_candidates = [c for c in df.columns if 'mag' in c.lower() or 'magnitude' in c.lower()]\n",
    "target_col = target_candidates[0] if target_candidates else df.select_dtypes(include=[np.number]).columns[-1]\n",
    "print(\"Target column:\", target_col)\n",
    "\n",
    "# Features = numeric columns except target\n",
    "numeric_cols = df.select_dtypes(include=[np.number]).columns.tolist()\n",
    "feature_cols = [c for c in numeric_cols if c != target_col]\n",
    "\n",
    "# Clean dataset\n",
    "df_clean = df[feature_cols + [target_col]].dropna()\n",
    "X = df_clean[feature_cols].values\n",
    "y = df_clean[target_col].values\n",
    "\n",
    "print(\"Features:\", len(feature_cols))\n",
    "print(\"Samples:\", X.shape[0])\n"
   ]
  },
  {
   "cell_type": "code",
   "execution_count": 3,
   "id": "e74bf479-c169-4d9f-b9ca-46fe9c4166ae",
   "metadata": {},
   "outputs": [
    {
     "name": "stdout",
     "output_type": "stream",
     "text": [
      "Cross-validation R² scores: [ 0.09413106  0.09850066  0.02270864  0.06013783 -1.32599015]\n",
      "Mean R²: -0.21010239364686029\n"
     ]
    }
   ],
   "source": [
    "# Cross-validation with Ridge (default alpha=1.0)\n",
    "pipeline = Pipeline([\n",
    "    (\"scaler\", StandardScaler()),\n",
    "    (\"ridge\", Ridge(alpha=1.0))\n",
    "])\n",
    "\n",
    "scores = cross_val_score(pipeline, X, y, cv=5, scoring=\"r2\")\n",
    "print(\"Cross-validation R² scores:\", scores)\n",
    "print(\"Mean R²:\", scores.mean())\n"
   ]
  },
  {
   "cell_type": "code",
   "execution_count": 4,
   "id": "35263715-bb80-4240-a05c-f68251a3a567",
   "metadata": {},
   "outputs": [
    {
     "name": "stdout",
     "output_type": "stream",
     "text": [
      "Best parameters: {'ridge__alpha': np.float64(100.0), 'ridge__fit_intercept': True}\n",
      "Best CV score (negative MSE): -1.061345345921878\n"
     ]
    }
   ],
   "source": [
    "# GridSearchCV for Ridge\n",
    "param_grid = {\n",
    "    \"ridge__alpha\": np.logspace(-3, 2, 10),   # 0.001 to 100\n",
    "    \"ridge__fit_intercept\": [True, False]\n",
    "}\n",
    "\n",
    "grid = GridSearchCV(\n",
    "    estimator=pipeline,\n",
    "    param_grid=param_grid,\n",
    "    cv=5,\n",
    "    scoring=\"neg_mean_squared_error\",\n",
    "    n_jobs=-1\n",
    ")\n",
    "\n",
    "grid.fit(X, y)\n",
    "\n",
    "print(\"Best parameters:\", grid.best_params_)\n",
    "print(\"Best CV score (negative MSE):\", grid.best_score_)\n"
   ]
  },
  {
   "cell_type": "code",
   "execution_count": 5,
   "id": "ad6b91ad-bdfa-4efc-9419-ddca6764675a",
   "metadata": {},
   "outputs": [
    {
     "name": "stdout",
     "output_type": "stream",
     "text": [
      "Evaluation on full dataset:\n",
      "RMSE: 0.9524182661042477\n",
      "R²: 0.09297964589997443\n"
     ]
    }
   ],
   "source": [
    "# Evaluate best model on full dataset\n",
    "best_model = grid.best_estimator_\n",
    "\n",
    "y_pred = best_model.predict(X)\n",
    "\n",
    "rmse = np.sqrt(mean_squared_error(y, y_pred))\n",
    "r2 = r2_score(y, y_pred)\n",
    "\n",
    "print(\"Evaluation on full dataset:\")\n",
    "print(\"RMSE:\", rmse)\n",
    "print(\"R²:\", r2)\n"
   ]
  },
  {
   "cell_type": "code",
   "execution_count": null,
   "id": "99f23e5e-f066-49ca-9c63-44f8f3d77c33",
   "metadata": {},
   "outputs": [],
   "source": []
  }
 ],
 "metadata": {
  "kernelspec": {
   "display_name": "Python 3 (ipykernel)",
   "language": "python",
   "name": "python3"
  },
  "language_info": {
   "codemirror_mode": {
    "name": "ipython",
    "version": 3
   },
   "file_extension": ".py",
   "mimetype": "text/x-python",
   "name": "python",
   "nbconvert_exporter": "python",
   "pygments_lexer": "ipython3",
   "version": "3.13.5"
  }
 },
 "nbformat": 4,
 "nbformat_minor": 5
}
